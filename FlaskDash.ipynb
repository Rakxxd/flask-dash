{
 "cells": [
  {
   "cell_type": "code",
   "execution_count": 1,
   "metadata": {},
   "outputs": [],
   "source": [
    "import dash\n",
    "import dash_core_components as dcc\n",
    "import dash_html_components as html\n",
    "import plotly.express as px\n",
    "import pandas as pd\n",
    "import plotly.offline as pyo\n",
    "import plotly.graph_objs as go\n",
    "import flask\n",
    "from flask import render_template\n",
    "from dash.dependencies import Input, Output"
   ]
  },
  {
   "cell_type": "code",
   "execution_count": null,
   "metadata": {
    "scrolled": true
   },
   "outputs": [
    {
     "name": "stdout",
     "output_type": "stream",
     "text": [
      "Dash is running on http://127.0.0.1:9005/dash/\n",
      "\n",
      "Dash is running on http://127.0.0.1:9005/dash/\n",
      "\n",
      "Dash is running on http://127.0.0.1:9005/dash/\n",
      "\n",
      "Dash is running on http://127.0.0.1:9005/dash/\n",
      "\n",
      "Dash is running on http://127.0.0.1:9005/dash/\n",
      "\n",
      "Dash is running on http://127.0.0.1:9005/dash/\n",
      "\n",
      "Dash is running on http://127.0.0.1:9005/dash/\n",
      "\n",
      " Warning: This is a development server. Do not use app.run_server\n",
      " Warning: This is a development server. Do not use app.run_server\n",
      " Warning: This is a development server. Do not use app.run_server\n",
      " Warning: This is a development server. Do not use app.run_server\n",
      " Warning: This is a development server. Do not use app.run_server\n",
      " Warning: This is a development server. Do not use app.run_server\n",
      " Warning: This is a development server. Do not use app.run_server\n",
      " in production, use a production WSGI server like gunicorn instead.\n",
      "\n",
      " in production, use a production WSGI server like gunicorn instead.\n",
      "\n",
      " in production, use a production WSGI server like gunicorn instead.\n",
      "\n",
      " in production, use a production WSGI server like gunicorn instead.\n",
      "\n",
      " in production, use a production WSGI server like gunicorn instead.\n",
      "\n",
      " in production, use a production WSGI server like gunicorn instead.\n",
      "\n",
      " in production, use a production WSGI server like gunicorn instead.\n",
      "\n",
      " * Serving Flask app \"__main__\" (lazy loading)\n",
      " * Environment: production\n",
      "   WARNING: This is a development server. Do not use it in a production deployment.\n",
      "   Use a production WSGI server instead.\n",
      " * Debug mode: off\n"
     ]
    },
    {
     "name": "stderr",
     "output_type": "stream",
     "text": [
      " * Running on http://127.0.0.1:9005/ (Press CTRL+C to quit)\n",
      "127.0.0.1 - - [16/Jul/2020 22:59:32] \"\u001b[37mGET /dash/ HTTP/1.1\u001b[0m\" 200 -\n",
      "127.0.0.1 - - [16/Jul/2020 22:59:33] \"\u001b[37mGET /dash/_dash-layout HTTP/1.1\u001b[0m\" 200 -\n",
      "127.0.0.1 - - [16/Jul/2020 22:59:33] \"\u001b[37mGET /dash/_dash-dependencies HTTP/1.1\u001b[0m\" 200 -\n",
      "127.0.0.1 - - [16/Jul/2020 22:59:33] \"\u001b[37mGET /dash/_favicon.ico?v=1.13.4 HTTP/1.1\u001b[0m\" 200 -\n",
      "127.0.0.1 - - [16/Jul/2020 22:59:33] \"\u001b[37mPOST /dash/_dash-update-component HTTP/1.1\u001b[0m\" 200 -\n"
     ]
    },
    {
     "name": "stdout",
     "output_type": "stream",
     "text": [
      "2015\n",
      "<class 'int'>\n"
     ]
    },
    {
     "name": "stderr",
     "output_type": "stream",
     "text": [
      "127.0.0.1 - - [16/Jul/2020 22:59:36] \"\u001b[37mPOST /dash/_dash-update-component HTTP/1.1\u001b[0m\" 200 -\n"
     ]
    },
    {
     "name": "stdout",
     "output_type": "stream",
     "text": [
      "2017\n",
      "<class 'int'>\n"
     ]
    },
    {
     "name": "stderr",
     "output_type": "stream",
     "text": [
      "127.0.0.1 - - [16/Jul/2020 22:59:38] \"\u001b[37mPOST /dash/_dash-update-component HTTP/1.1\u001b[0m\" 200 -\n"
     ]
    },
    {
     "name": "stdout",
     "output_type": "stream",
     "text": [
      "2016\n",
      "<class 'int'>\n"
     ]
    },
    {
     "name": "stderr",
     "output_type": "stream",
     "text": [
      "127.0.0.1 - - [16/Jul/2020 22:59:41] \"\u001b[37mPOST /dash/_dash-update-component HTTP/1.1\u001b[0m\" 200 -\n"
     ]
    },
    {
     "name": "stdout",
     "output_type": "stream",
     "text": [
      "2018\n",
      "<class 'int'>\n"
     ]
    },
    {
     "name": "stderr",
     "output_type": "stream",
     "text": [
      "127.0.0.1 - - [16/Jul/2020 22:59:43] \"\u001b[37mPOST /dash/_dash-update-component HTTP/1.1\u001b[0m\" 200 -\n"
     ]
    },
    {
     "name": "stdout",
     "output_type": "stream",
     "text": [
      "2015\n",
      "<class 'int'>\n"
     ]
    }
   ],
   "source": [
    "server = flask.Flask(__name__)\n",
    "\n",
    "@server.route('/')\n",
    "def index():\n",
    "    return render_template('Index.html')\n",
    "\n",
    "app = dash.Dash(\n",
    "    __name__,\n",
    "    server=server,\n",
    "    routes_pathname_prefix='/dash/'\n",
    ")\n",
    "\n",
    "app.layout = html.Div(className='container',children=[\n",
    "    html.Div(className='row align-items-center min-vh-100' ,\n",
    "            children=[\n",
    "                html.Div(className='col-3',children=[\n",
    "                            html.P('Here'),\n",
    "                            html.Br(),\n",
    "                            dcc.Dropdown(id=\"slct_year\",\n",
    "                 options=[\n",
    "                     {\"label\": \"2015\", \"value\": 2015},\n",
    "                     {\"label\": \"2016\", \"value\": 2016},\n",
    "                     {\"label\": \"2017\", \"value\": 2017},\n",
    "                     {\"label\": \"2018\", \"value\": 2018}],\n",
    "                 multi=False,\n",
    "                 value=2015,\n",
    "                 style={'width':'92%'}\n",
    "                                         \n",
    "                 )\n",
    "                            \n",
    "                        ]\n",
    "                        ),\n",
    "                html.Div(className='col-9',children=[\n",
    "                            html.Div(id='output_container', children=[],style={'text-align':'center'}),\n",
    "                            dcc.Graph(id='graph-bar',figure={})\n",
    "                        ]                   \n",
    "                        )\n",
    "            ])\n",
    "    \n",
    "])\n",
    "\n",
    "@app.callback(\n",
    "    [Output(component_id='output_container', component_property='children'),\n",
    "     Output(component_id='graph-bar', component_property='figure')],\n",
    "    [Input(component_id='slct_year', component_property='value')]\n",
    ")\n",
    "def update_graph(option_slctd):\n",
    "    print(option_slctd)\n",
    "    print(type(option_slctd))\n",
    "\n",
    "    container = \"The year chosen by user was: {}\".format(option_slctd)\n",
    "    x = ['January','February','March']\n",
    "    y = [10,20,15]\n",
    "    x1= ['April','May','June']\n",
    "    y2 = [110,120,98]\n",
    "    if option_slctd == 2015:\n",
    "        trace = go.Bar(\n",
    "        x = x,\n",
    "        y = y\n",
    "        )\n",
    "    else:\n",
    "        trace = go.Bar(\n",
    "        x = x1,\n",
    "        y = y2\n",
    "        )\n",
    "    data = [trace]\n",
    "    fig = go.Figure(data=data)\n",
    "   \n",
    "\n",
    "    return container, fig\n",
    "\n",
    "if __name__ == '__main__':\n",
    "    app.run_server(port=9005)"
   ]
  },
  {
   "cell_type": "code",
   "execution_count": null,
   "metadata": {},
   "outputs": [],
   "source": []
  }
 ],
 "metadata": {
  "kernelspec": {
   "display_name": "Python 3",
   "language": "python",
   "name": "python3"
  },
  "language_info": {
   "codemirror_mode": {
    "name": "ipython",
    "version": 3
   },
   "file_extension": ".py",
   "mimetype": "text/x-python",
   "name": "python",
   "nbconvert_exporter": "python",
   "pygments_lexer": "ipython3",
   "version": "3.7.4"
  }
 },
 "nbformat": 4,
 "nbformat_minor": 2
}
